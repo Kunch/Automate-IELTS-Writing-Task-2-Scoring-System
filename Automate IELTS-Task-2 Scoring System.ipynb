{
  "nbformat": 4,
  "nbformat_minor": 0,
  "metadata": {
    "colab": {
      "name": "Data Cleaning",
      "provenance": [],
      "collapsed_sections": [],
      "machine_shape": "hm"
    },
    "kernelspec": {
      "name": "python3",
      "display_name": "Python 3"
    }
  },
  "cells": [
    {
      "cell_type": "code",
      "metadata": {
        "id": "XHBAxb1NP0Uf",
        "colab_type": "code",
        "colab": {
          "base_uri": "https://localhost:8080/",
          "height": 119
        },
        "outputId": "0e1d0e1b-15b6-4af4-9eda-bfb87f334a36"
      },
      "source": [
        "import nltk\n",
        "import pandas as pd\n",
        "from gensim.models import Word2Vec, KeyedVectors\n",
        "import sklearn\n",
        "from sklearn.feature_extraction.text import CountVectorizer\n",
        "import numpy as np\n",
        "from sklearn.model_selection import train_test_split\n",
        "from sklearn.model_selection import GridSearchCV\n",
        "from sklearn.model_selection import cross_val_score\n",
        "from sklearn.linear_model  import LinearRegression\n",
        "nltk.download('stem')\n",
        "nltk.download('stopwords')\n",
        "nltk.download('punkt')"
      ],
      "execution_count": 1,
      "outputs": [
        {
          "output_type": "stream",
          "text": [
            "[nltk_data] Error loading stem: Package 'stem' not found in index\n",
            "[nltk_data] Downloading package stopwords to /root/nltk_data...\n",
            "[nltk_data]   Package stopwords is already up-to-date!\n",
            "[nltk_data] Downloading package punkt to /root/nltk_data...\n",
            "[nltk_data]   Package punkt is already up-to-date!\n"
          ],
          "name": "stdout"
        },
        {
          "output_type": "execute_result",
          "data": {
            "text/plain": [
              "True"
            ]
          },
          "metadata": {
            "tags": []
          },
          "execution_count": 1
        }
      ]
    },
    {
      "cell_type": "code",
      "metadata": {
        "id": "BLTHiP1TQEVF",
        "colab_type": "code",
        "outputId": "5db7d527-9a6b-492d-a898-b5b1852e4b08",
        "colab": {
          "base_uri": "https://localhost:8080/",
          "height": 34
        }
      },
      "source": [
        "from google.colab import drive\n",
        "drive.mount('/content/drive/')"
      ],
      "execution_count": 2,
      "outputs": [
        {
          "output_type": "stream",
          "text": [
            "Drive already mounted at /content/drive/; to attempt to forcibly remount, call drive.mount(\"/content/drive/\", force_remount=True).\n"
          ],
          "name": "stdout"
        }
      ]
    },
    {
      "cell_type": "code",
      "metadata": {
        "id": "Fq-GKwENUB62",
        "colab_type": "code",
        "outputId": "85185732-6d5d-4ce9-f12d-fe31f6c4bb0c",
        "colab": {
          "base_uri": "https://localhost:8080/",
          "height": 34
        }
      },
      "source": [
        "cd /content/drive/My Drive/NLP/asap-aes"
      ],
      "execution_count": 3,
      "outputs": [
        {
          "output_type": "stream",
          "text": [
            "/content/drive/My Drive/NLP/asap-aes\n"
          ],
          "name": "stdout"
        }
      ]
    },
    {
      "cell_type": "code",
      "metadata": {
        "id": "lLWctMvWs1qg",
        "colab_type": "code",
        "colab": {}
      },
      "source": [
        "n1_column = pd.read_excel('training_set_rel3.xls', index_col=0)  \n"
      ],
      "execution_count": 0,
      "outputs": []
    },
    {
      "cell_type": "code",
      "metadata": {
        "id": "cTQMwW67s2wW",
        "colab_type": "code",
        "colab": {
          "base_uri": "https://localhost:8080/",
          "height": 153
        },
        "outputId": "2f1b9c3c-7fd7-45ba-ac73-c51fdd53c20e"
      },
      "source": [
        "n1_column.columns"
      ],
      "execution_count": 5,
      "outputs": [
        {
          "output_type": "execute_result",
          "data": {
            "text/plain": [
              "Index(['essay_set', 'essay', 'rater1_domain1', 'rater2_domain1',\n",
              "       'rater3_domain1', 'domain1_score', 'rater1_domain2', 'rater2_domain2',\n",
              "       'domain2_score', 'rater1_trait1', 'rater1_trait2', 'rater1_trait3',\n",
              "       'rater1_trait4', 'rater1_trait5', 'rater1_trait6', 'rater2_trait1',\n",
              "       'rater2_trait2', 'rater2_trait3', 'rater2_trait4', 'rater2_trait5',\n",
              "       'rater2_trait6', 'rater3_trait1', 'rater3_trait2', 'rater3_trait3',\n",
              "       'rater3_trait4', 'rater3_trait5', 'rater3_trait6'],\n",
              "      dtype='object')"
            ]
          },
          "metadata": {
            "tags": []
          },
          "execution_count": 5
        }
      ]
    },
    {
      "cell_type": "code",
      "metadata": {
        "id": "MGnVyfXRUz0c",
        "colab_type": "code",
        "colab": {}
      },
      "source": [
        "n1_column.columns\n",
        "n1_column = n1_column.iloc[:,[0,1,5,8]]\n",
        "n1_column = n1_column[n1_column.essay_set == 2]"
      ],
      "execution_count": 0,
      "outputs": []
    },
    {
      "cell_type": "code",
      "metadata": {
        "id": "OI6zLexuZCky",
        "colab_type": "code",
        "colab": {}
      },
      "source": [
        "n1_column['domain1_score'] = n1_column['domain1_score'].astype('int32')\n",
        "n1_column['domain1_score'] = n1_column['domain1_score'].astype(str)\n",
        "n1_column['domain2_score'] = n1_column['domain2_score'].astype('int32')\n",
        "n1_column['domain2_score'] = n1_column['domain2_score'].astype(str)"
      ],
      "execution_count": 0,
      "outputs": []
    },
    {
      "cell_type": "code",
      "metadata": {
        "id": "pTIEikeWY9_v",
        "colab_type": "code",
        "colab": {
          "base_uri": "https://localhost:8080/",
          "height": 450
        },
        "outputId": "27a40ea3-6897-43aa-aaf0-ec3b496e4cd0"
      },
      "source": [
        "n1_column"
      ],
      "execution_count": 8,
      "outputs": [
        {
          "output_type": "execute_result",
          "data": {
            "text/html": [
              "<div>\n",
              "<style scoped>\n",
              "    .dataframe tbody tr th:only-of-type {\n",
              "        vertical-align: middle;\n",
              "    }\n",
              "\n",
              "    .dataframe tbody tr th {\n",
              "        vertical-align: top;\n",
              "    }\n",
              "\n",
              "    .dataframe thead th {\n",
              "        text-align: right;\n",
              "    }\n",
              "</style>\n",
              "<table border=\"1\" class=\"dataframe\">\n",
              "  <thead>\n",
              "    <tr style=\"text-align: right;\">\n",
              "      <th></th>\n",
              "      <th>essay_set</th>\n",
              "      <th>essay</th>\n",
              "      <th>domain1_score</th>\n",
              "      <th>domain2_score</th>\n",
              "    </tr>\n",
              "    <tr>\n",
              "      <th>essay_id</th>\n",
              "      <th></th>\n",
              "      <th></th>\n",
              "      <th></th>\n",
              "      <th></th>\n",
              "    </tr>\n",
              "  </thead>\n",
              "  <tbody>\n",
              "    <tr>\n",
              "      <th>2978</th>\n",
              "      <td>2</td>\n",
              "      <td>Certain materials being removed from libraries...</td>\n",
              "      <td>4</td>\n",
              "      <td>4</td>\n",
              "    </tr>\n",
              "    <tr>\n",
              "      <th>2979</th>\n",
              "      <td>2</td>\n",
              "      <td>Write a persuasive essay to a newspaper reflec...</td>\n",
              "      <td>1</td>\n",
              "      <td>1</td>\n",
              "    </tr>\n",
              "    <tr>\n",
              "      <th>2980</th>\n",
              "      <td>2</td>\n",
              "      <td>Do you think that libraries should remove cert...</td>\n",
              "      <td>2</td>\n",
              "      <td>3</td>\n",
              "    </tr>\n",
              "    <tr>\n",
              "      <th>2981</th>\n",
              "      <td>2</td>\n",
              "      <td>In @DATE1's world, there are many things found...</td>\n",
              "      <td>4</td>\n",
              "      <td>4</td>\n",
              "    </tr>\n",
              "    <tr>\n",
              "      <th>2982</th>\n",
              "      <td>2</td>\n",
              "      <td>In life you have the 'offensive things'. The l...</td>\n",
              "      <td>4</td>\n",
              "      <td>4</td>\n",
              "    </tr>\n",
              "    <tr>\n",
              "      <th>...</th>\n",
              "      <td>...</td>\n",
              "      <td>...</td>\n",
              "      <td>...</td>\n",
              "      <td>...</td>\n",
              "    </tr>\n",
              "    <tr>\n",
              "      <th>4773</th>\n",
              "      <td>2</td>\n",
              "      <td>The author is writting about taking books off ...</td>\n",
              "      <td>3</td>\n",
              "      <td>3</td>\n",
              "    </tr>\n",
              "    <tr>\n",
              "      <th>4774</th>\n",
              "      <td>2</td>\n",
              "      <td>I do not think that materials, such as books, ...</td>\n",
              "      <td>3</td>\n",
              "      <td>3</td>\n",
              "    </tr>\n",
              "    <tr>\n",
              "      <th>4775</th>\n",
              "      <td>2</td>\n",
              "      <td>Yes we should keep the books,music,movies,an m...</td>\n",
              "      <td>2</td>\n",
              "      <td>2</td>\n",
              "    </tr>\n",
              "    <tr>\n",
              "      <th>4776</th>\n",
              "      <td>2</td>\n",
              "      <td>I do believe that  book, magazines, music, mov...</td>\n",
              "      <td>3</td>\n",
              "      <td>4</td>\n",
              "    </tr>\n",
              "    <tr>\n",
              "      <th>4777</th>\n",
              "      <td>2</td>\n",
              "      <td>Different Then Everyone Else     @CAPS1 do peo...</td>\n",
              "      <td>3</td>\n",
              "      <td>2</td>\n",
              "    </tr>\n",
              "  </tbody>\n",
              "</table>\n",
              "<p>1800 rows × 4 columns</p>\n",
              "</div>"
            ],
            "text/plain": [
              "          essay_set  ... domain2_score\n",
              "essay_id             ...              \n",
              "2978              2  ...             4\n",
              "2979              2  ...             1\n",
              "2980              2  ...             3\n",
              "2981              2  ...             4\n",
              "2982              2  ...             4\n",
              "...             ...  ...           ...\n",
              "4773              2  ...             3\n",
              "4774              2  ...             3\n",
              "4775              2  ...             2\n",
              "4776              2  ...             4\n",
              "4777              2  ...             2\n",
              "\n",
              "[1800 rows x 4 columns]"
            ]
          },
          "metadata": {
            "tags": []
          },
          "execution_count": 8
        }
      ]
    },
    {
      "cell_type": "markdown",
      "metadata": {
        "id": "5IIJEy40lXEe",
        "colab_type": "text"
      },
      "source": [
        "###RNN_______________________"
      ]
    },
    {
      "cell_type": "code",
      "metadata": {
        "id": "lBb4JC4vlVWS",
        "colab_type": "code",
        "colab": {
          "base_uri": "https://localhost:8080/",
          "height": 34
        },
        "outputId": "5068946b-413c-4667-edd6-3d82d580ee8f"
      },
      "source": [
        "from keras.preprocessing.sequence import pad_sequences\n",
        "from keras.layers import Embedding, LSTM, Dense, Dropout\n",
        "from keras.preprocessing.text import Tokenizer\n",
        "from keras.callbacks import EarlyStopping\n",
        "from keras.models import Sequential\n",
        "import keras.utils as ku \n",
        "import numpy as np \n",
        "from numpy import array\n",
        "from keras.preprocessing.text import Tokenizer\n",
        "from keras.utils import to_categorical\n",
        "from keras.preprocessing.sequence import pad_sequences\n",
        "from keras.models import Sequential\n",
        "from keras.layers import Dense, Conv1D\n",
        "from keras.layers import LSTM\n",
        "from keras.layers import Embedding\n",
        "from keras.layers import SpatialDropout1D\n",
        "import matplotlib.pyplot as plt\n",
        "import keras \n",
        "from keras import backend as K\n",
        "from keras import layers\n",
        "from plotly import __version__\n",
        "%matplotlib inline"
      ],
      "execution_count": 9,
      "outputs": [
        {
          "output_type": "stream",
          "text": [
            "Using TensorFlow backend.\n"
          ],
          "name": "stderr"
        }
      ]
    },
    {
      "cell_type": "code",
      "metadata": {
        "id": "y7kGajczB_GR",
        "colab_type": "code",
        "colab": {}
      },
      "source": [
        "import re\n",
        "df = n1_column.reset_index(drop=True)\n",
        "REPLACE_BY_SPACE_RE = re.compile('[/(){}\\[\\]\\|,;]')\n",
        "BAD_SYMBOLS_RE = re.compile('[^0-9a-z #+_]')\n",
        "\n",
        "def clean_text(text):\n",
        "    text = REPLACE_BY_SPACE_RE.sub(' ', text) # replace REPLACE_BY_SPACE_RE symbols by space in text. substitute the matched string in REPLACE_BY_SPACE_RE with space.\n",
        "    text = BAD_SYMBOLS_RE.sub('', text) # remove symbols which are in BAD_SYMBOLS_RE from text. substitute the matched string in BAD_SYMBOLS_RE with nothing. \n",
        "    #text = text.replace('x', '')\n",
        "    #    text = re.sub(r'\\W+', '', text)\n",
        "    text = ' '.join(word for word in text.split()) # remove stopwors from text\n",
        "    return text\n",
        "df['essay'] = df['essay'].apply(clean_text)\n",
        "df['essay'] = df['essay'].str.replace('\\d+', '')"
      ],
      "execution_count": 0,
      "outputs": []
    },
    {
      "cell_type": "markdown",
      "metadata": {
        "id": "UW_N6CwJPhix",
        "colab_type": "text"
      },
      "source": [
        "##D1"
      ]
    },
    {
      "cell_type": "code",
      "metadata": {
        "id": "8oqilGNJ6jNR",
        "colab_type": "code",
        "colab": {
          "base_uri": "https://localhost:8080/",
          "height": 295
        },
        "outputId": "90e11f32-8a1a-4ddb-cd3e-53b0c74d6bf6"
      },
      "source": [
        "df['domain1_score'].value_counts().sort_values(ascending=False).plot(kind='bar', \n",
        "                                                                title='Score of Domain 2')"
      ],
      "execution_count": 11,
      "outputs": [
        {
          "output_type": "execute_result",
          "data": {
            "text/plain": [
              "<matplotlib.axes._subplots.AxesSubplot at 0x7fe07ccabdd8>"
            ]
          },
          "metadata": {
            "tags": []
          },
          "execution_count": 11
        },
        {
          "output_type": "display_data",
          "data": {
            "image/png": "[encoded data removed]",
            "text/plain": [
              "<Figure size 432x288 with 1 Axes>"
            ]
          },
          "metadata": {
            "tags": [],
            "needs_background": "light"
          }
        }
      ]
    },
    {
      "cell_type": "code",
      "metadata": {
        "id": "nyIT-b2JDJI0",
        "colab_type": "code",
        "colab": {
          "base_uri": "https://localhost:8080/",
          "height": 34
        },
        "outputId": "99d1c473-7915-488a-cc40-1e9e3b0bb3f2"
      },
      "source": [
        "# The maximum number of words to be used. (most frequent)\n",
        "MAX_NB_WORDS = 50000\n",
        "# Max number of words in each complaint.\n",
        "MAX_SEQUENCE_LENGTH = 2000\n",
        "# This is fixed.\n",
        "EMBEDDING_DIM = 100\n",
        "tokenizer = Tokenizer(num_words=MAX_NB_WORDS, filters='!\"#$%&()*+,-./:;<=>?@[\\]^_`{|}~', lower=True)\n",
        "tokenizer.fit_on_texts(df['essay'].values)\n",
        "word_index = tokenizer.word_index\n",
        "print('Found %s unique tokens.' % len(word_index))"
      ],
      "execution_count": 12,
      "outputs": [
        {
          "output_type": "stream",
          "text": [
            "Found 15393 unique tokens.\n"
          ],
          "name": "stdout"
        }
      ]
    },
    {
      "cell_type": "code",
      "metadata": {
        "id": "zoHI_hdA8aku",
        "colab_type": "code",
        "colab": {
          "base_uri": "https://localhost:8080/",
          "height": 34
        },
        "outputId": "eb5427ed-2951-4c4a-ba71-b0bf568bf0d2"
      },
      "source": [
        "X = tokenizer.texts_to_sequences(df['essay'].values)\n",
        "X = pad_sequences(X, maxlen=MAX_SEQUENCE_LENGTH)\n",
        "print('Shape of data tensor:', X.shape)"
      ],
      "execution_count": 13,
      "outputs": [
        {
          "output_type": "stream",
          "text": [
            "Shape of data tensor: (1800, 2000)\n"
          ],
          "name": "stdout"
        }
      ]
    },
    {
      "cell_type": "code",
      "metadata": {
        "id": "ppvbUEUW7lLk",
        "colab_type": "code",
        "colab": {
          "base_uri": "https://localhost:8080/",
          "height": 34
        },
        "outputId": "b4093837-d706-4ace-934e-7fe0737cfe39"
      },
      "source": [
        "Y = pd.get_dummies(n1_column.domain1_score).values\n",
        "#Y = n1_column['domain1_score'].values\n",
        "print('Shape of label tensor:', Y.shape)"
      ],
      "execution_count": 14,
      "outputs": [
        {
          "output_type": "stream",
          "text": [
            "Shape of label tensor: (1800, 6)\n"
          ],
          "name": "stdout"
        }
      ]
    },
    {
      "cell_type": "code",
      "metadata": {
        "id": "m2npRtbrALvE",
        "colab_type": "code",
        "colab": {
          "base_uri": "https://localhost:8080/",
          "height": 51
        },
        "outputId": "876e6b32-baf7-403d-fa27-42cfbb70ffd3"
      },
      "source": [
        "X_train, X_test, Y_train, Y_test = train_test_split(X,Y, test_size = 0.25, random_state = 42)\n",
        "print(X_train.shape,Y_train.shape)\n",
        "print(X_test.shape,Y_test.shape)"
      ],
      "execution_count": 15,
      "outputs": [
        {
          "output_type": "stream",
          "text": [
            "(1350, 2000) (1350, 6)\n",
            "(450, 2000) (450, 6)\n"
          ],
          "name": "stdout"
        }
      ]
    },
    {
      "cell_type": "code",
      "metadata": {
        "id": "SQgqBMcN9brP",
        "colab_type": "code",
        "colab": {
          "base_uri": "https://localhost:8080/",
          "height": 204
        },
        "outputId": "8cd2c3ed-ee29-4a03-9c52-9d1c1f888985"
      },
      "source": [
        "\n",
        "\n",
        "model_1 = Sequential() \n",
        "model_1.add(Embedding(MAX_NB_WORDS, EMBEDDING_DIM, input_length=X.shape[1],trainable=False)) \n",
        "model_1.add(LSTM(100, dropout=0.2, recurrent_dropout=0.2))\n",
        "model_1.add(Dense(6, activation='softmax'))\n",
        "model_1.compile(loss= 'categorical_crossentropy', optimizer='rmsprop', metrics=['accuracy'])\n",
        " # -------------------------------------------------------------------------------------------------------#\n",
        "history = model_1.fit(X_train,\n",
        "                      Y_train,\n",
        "                      epochs=5, \n",
        "                      batch_size=64,\n",
        "                      validation_split=0.1,\n",
        "                      callbacks=\n",
        "                      [EarlyStopping(monitor='val_loss', min_delta=0, patience=5, verbose=0, mode='auto')])\n"
      ],
      "execution_count": 16,
      "outputs": [
        {
          "output_type": "stream",
          "text": [
            "Train on 1215 samples, validate on 135 samples\n",
            "Epoch 1/5\n",
            "1215/1215 [==============================] - 43s 36ms/step - loss: 1.2887 - accuracy: 0.4198 - val_loss: 1.3414 - val_accuracy: 0.4148\n",
            "Epoch 2/5\n",
            "1215/1215 [==============================] - 42s 35ms/step - loss: 1.1463 - accuracy: 0.4593 - val_loss: 1.2776 - val_accuracy: 0.4074\n",
            "Epoch 3/5\n",
            "1215/1215 [==============================] - 42s 35ms/step - loss: 1.1509 - accuracy: 0.4346 - val_loss: 1.2675 - val_accuracy: 0.3778\n",
            "Epoch 4/5\n",
            "1215/1215 [==============================] - 49s 41ms/step - loss: 1.1430 - accuracy: 0.4321 - val_loss: 1.3081 - val_accuracy: 0.4148\n",
            "Epoch 5/5\n",
            "1215/1215 [==============================] - 43s 35ms/step - loss: 1.1413 - accuracy: 0.4477 - val_loss: 1.2776 - val_accuracy: 0.4074\n"
          ],
          "name": "stdout"
        }
      ]
    },
    {
      "cell_type": "code",
      "metadata": {
        "id": "ikyR2cNb9xi8",
        "colab_type": "code",
        "colab": {
          "base_uri": "https://localhost:8080/",
          "height": 180
        },
        "outputId": "48c6e3b7-e783-4bf8-b054-e0f634cdba2a"
      },
      "source": [
        "accr = model_2.evaluate(X_test,Y_test)\n",
        "print('Test set\\n  Loss: {:0.3f}\\n  Accuracy: {:0.3f}'.format(accr[0],accr[1]))"
      ],
      "execution_count": 18,
      "outputs": [
        {
          "output_type": "error",
          "ename": "NameError",
          "evalue": "ignored",
          "traceback": [
            "\u001b[0;31m---------------------------------------------------------------------------\u001b[0m",
            "\u001b[0;31mNameError\u001b[0m                                 Traceback (most recent call last)",
            "\u001b[0;32m<ipython-input-18-9d50697d1f61>\u001b[0m in \u001b[0;36m<module>\u001b[0;34m()\u001b[0m\n\u001b[0;32m----> 1\u001b[0;31m \u001b[0maccr\u001b[0m \u001b[0;34m=\u001b[0m \u001b[0mmodel_2\u001b[0m\u001b[0;34m.\u001b[0m\u001b[0mevaluate\u001b[0m\u001b[0;34m(\u001b[0m\u001b[0mX_test\u001b[0m\u001b[0;34m,\u001b[0m\u001b[0mY_test\u001b[0m\u001b[0;34m)\u001b[0m\u001b[0;34m\u001b[0m\u001b[0;34m\u001b[0m\u001b[0m\n\u001b[0m\u001b[1;32m      2\u001b[0m \u001b[0mprint\u001b[0m\u001b[0;34m(\u001b[0m\u001b[0;34m'Test set\\n  Loss: {:0.3f}\\n  Accuracy: {:0.3f}'\u001b[0m\u001b[0;34m.\u001b[0m\u001b[0mformat\u001b[0m\u001b[0;34m(\u001b[0m\u001b[0maccr\u001b[0m\u001b[0;34m[\u001b[0m\u001b[0;36m0\u001b[0m\u001b[0;34m]\u001b[0m\u001b[0;34m,\u001b[0m\u001b[0maccr\u001b[0m\u001b[0;34m[\u001b[0m\u001b[0;36m1\u001b[0m\u001b[0;34m]\u001b[0m\u001b[0;34m)\u001b[0m\u001b[0;34m)\u001b[0m\u001b[0;34m\u001b[0m\u001b[0;34m\u001b[0m\u001b[0m\n",
            "\u001b[0;31mNameError\u001b[0m: name 'model_2' is not defined"
          ]
        }
      ]
    },
    {
      "cell_type": "code",
      "metadata": {
        "id": "Umuf-fvS92dC",
        "colab_type": "code",
        "colab": {
          "base_uri": "https://localhost:8080/",
          "height": 281
        },
        "outputId": "f2c025ed-6ddb-4312-84b7-6b5546200570"
      },
      "source": [
        "plt.title('Loss')\n",
        "plt.plot(history.history['loss'], label='train')\n",
        "plt.plot(history.history['val_loss'], label='test')\n",
        "plt.legend()\n",
        "plt.show();"
      ],
      "execution_count": 19,
      "outputs": [
        {
          "output_type": "display_data",
          "data": {
            "image/png": "[encoded data removed]",
            "text/plain": [
              "<Figure size 432x288 with 1 Axes>"
            ]
          },
          "metadata": {
            "tags": [],
            "needs_background": "light"
          }
        }
      ]
    },
    {
      "cell_type": "code",
      "metadata": {
        "id": "b8ah-o8H95g9",
        "colab_type": "code",
        "colab": {
          "base_uri": "https://localhost:8080/",
          "height": 281
        },
        "outputId": "d4835e60-0186-4388-dcb5-d93c3e973aef"
      },
      "source": [
        "plt.title('Accuracy')\n",
        "plt.plot(history.history['accuracy'], label='train')\n",
        "plt.plot(history.history['val_accuracy'], label='test')\n",
        "plt.legend()\n",
        "plt.show();"
      ],
      "execution_count": 20,
      "outputs": [
        {
          "output_type": "display_data",
          "data": {
            "image/png": "[encoded data removed]",
            "text/plain": [
              "<Figure size 432x288 with 1 Axes>"
            ]
          },
          "metadata": {
            "tags": [],
            "needs_background": "light"
          }
        }
      ]
    },
    {
      "cell_type": "code",
      "metadata": {
        "id": "nWdBwIHuYfz0",
        "colab_type": "code",
        "colab": {}
      },
      "source": [
        "def find_d1(text):\n",
        "  input_d = clean_text(text)\n",
        "  seq = tokenizer.texts_to_sequences(input_d)\n",
        "  padded = pad_sequences(seq, maxlen=MAX_SEQUENCE_LENGTH)\n",
        "  pred = model_1.predict(padded)\n",
        "  buf = []\n",
        "  buf_2 = []\n",
        "  for i in range(0,6):\n",
        "    for n in pred:\n",
        "      buf.append(n[i])\n",
        "    buf_1 = np.mean(buf)\n",
        "    buf_2.append(buf_1)\n",
        "  labels = [1,2,3,4,5,6]\n",
        "  d1 = labels[np.argmax(buf_2)]\n",
        "  return d1"
      ],
      "execution_count": 0,
      "outputs": []
    },
    {
      "cell_type": "markdown",
      "metadata": {
        "colab_type": "text",
        "id": "Kqwz4XLWnk4V"
      },
      "source": [
        "##D2"
      ]
    },
    {
      "cell_type": "code",
      "metadata": {
        "colab_type": "code",
        "outputId": "1cf7b9cd-c8a7-4a10-ff51-2506be2d2f53",
        "id": "lDlKAyNYnk4W",
        "colab": {
          "base_uri": "https://localhost:8080/",
          "height": 295
        }
      },
      "source": [
        "df['domain2_score'].value_counts().sort_values(ascending=False).plot(kind='bar', \n",
        "                                                                title='Score of Domain 2')"
      ],
      "execution_count": 22,
      "outputs": [
        {
          "output_type": "execute_result",
          "data": {
            "text/plain": [
              "<matplotlib.axes._subplots.AxesSubplot at 0x7fe06e894d68>"
            ]
          },
          "metadata": {
            "tags": []
          },
          "execution_count": 22
        },
        {
          "output_type": "display_data",
          "data": {
            "image/png": "[encoded data removed]",
            "text/plain": [
              "<Figure size 432x288 with 1 Axes>"
            ]
          },
          "metadata": {
            "tags": [],
            "needs_background": "light"
          }
        }
      ]
    },
    {
      "cell_type": "code",
      "metadata": {
        "colab_type": "code",
        "outputId": "c541435d-a661-41e7-8287-d7042ea18d86",
        "id": "XWdWiwOMnk4c",
        "colab": {
          "base_uri": "https://localhost:8080/",
          "height": 34
        }
      },
      "source": [
        "Y = pd.get_dummies(n1_column.domain2_score).values\n",
        "#Y = n1_column['domain2_score'].values\n",
        "print('Shape of label tensor:', Y.shape)"
      ],
      "execution_count": 23,
      "outputs": [
        {
          "output_type": "stream",
          "text": [
            "Shape of label tensor: (1800, 4)\n"
          ],
          "name": "stdout"
        }
      ]
    },
    {
      "cell_type": "code",
      "metadata": {
        "colab_type": "code",
        "outputId": "8780fa10-d98b-4b1e-b2fc-ae498851540e",
        "id": "O9PaFZETnk4e",
        "colab": {
          "base_uri": "https://localhost:8080/",
          "height": 51
        }
      },
      "source": [
        "X_train, X_test, Y_train, Y_test = train_test_split(X,Y, test_size = 0.25, random_state = 42)\n",
        "print(X_train.shape,Y_train.shape)\n",
        "print(X_test.shape,Y_test.shape)"
      ],
      "execution_count": 24,
      "outputs": [
        {
          "output_type": "stream",
          "text": [
            "(1350, 2000) (1350, 4)\n",
            "(450, 2000) (450, 4)\n"
          ],
          "name": "stdout"
        }
      ]
    },
    {
      "cell_type": "code",
      "metadata": {
        "colab_type": "code",
        "outputId": "13f442a0-114f-4e31-a26d-ee9811b31973",
        "id": "U26T0e3fnk4h",
        "colab": {
          "base_uri": "https://localhost:8080/",
          "height": 204
        }
      },
      "source": [
        "\n",
        "\n",
        "model_2 = Sequential() # To create the modeling object for stacking the following layers.\n",
        "model_2.add(Embedding(MAX_NB_WORDS, EMBEDDING_DIM, input_length=X.shape[1],trainable=False)) # the model will take as input an integer matrix of size (batch, input_length).\n",
        "model_2.add(LSTM(100, dropout=0.2, recurrent_dropout=0.2))\n",
        "model_2.add(Dense(4, activation='softmax'))\n",
        "model_2.compile(loss= 'categorical_crossentropy', optimizer='rmsprop', metrics=['accuracy'])\n",
        "\n",
        "epochs = 5\n",
        "batch_size = 64\n",
        "\n",
        "history = model_2.fit(X_train, Y_train, epochs=epochs, batch_size=batch_size,validation_split=0.1,callbacks=[EarlyStopping(monitor='val_loss', min_delta=0, patience=5, verbose=0, mode='auto')])\n"
      ],
      "execution_count": 25,
      "outputs": [
        {
          "output_type": "stream",
          "text": [
            "Train on 1215 samples, validate on 135 samples\n",
            "Epoch 1/5\n",
            "1215/1215 [==============================] - 43s 36ms/step - loss: 1.1206 - accuracy: 0.4296 - val_loss: 1.0568 - val_accuracy: 0.5185\n",
            "Epoch 2/5\n",
            "1215/1215 [==============================] - 43s 35ms/step - loss: 1.0356 - accuracy: 0.4782 - val_loss: 1.0554 - val_accuracy: 0.5185\n",
            "Epoch 3/5\n",
            "1215/1215 [==============================] - 43s 35ms/step - loss: 1.0269 - accuracy: 0.4576 - val_loss: 1.0576 - val_accuracy: 0.5185\n",
            "Epoch 4/5\n",
            "1215/1215 [==============================] - 43s 35ms/step - loss: 1.0012 - accuracy: 0.4790 - val_loss: 1.0679 - val_accuracy: 0.5111\n",
            "Epoch 5/5\n",
            "1215/1215 [==============================] - 43s 35ms/step - loss: 1.0068 - accuracy: 0.4749 - val_loss: 1.0697 - val_accuracy: 0.5185\n"
          ],
          "name": "stdout"
        }
      ]
    },
    {
      "cell_type": "code",
      "metadata": {
        "colab_type": "code",
        "outputId": "a17097ab-a2d4-47a8-ae64-0f8626f5546b",
        "id": "piVmLc5-nk4j",
        "colab": {
          "base_uri": "https://localhost:8080/",
          "height": 85
        }
      },
      "source": [
        "accr = model_2.evaluate(X_test,Y_test)\n",
        "print('Test set\\n  Loss: {:0.3f}\\n  Accuracy: {:0.3f}'.format(accr[0],accr[1]))"
      ],
      "execution_count": 26,
      "outputs": [
        {
          "output_type": "stream",
          "text": [
            "450/450 [==============================] - 6s 13ms/step\n",
            "Test set\n",
            "  Loss: 0.995\n",
            "  Accuracy: 0.462\n"
          ],
          "name": "stdout"
        }
      ]
    },
    {
      "cell_type": "code",
      "metadata": {
        "colab_type": "code",
        "outputId": "6d4b031c-fdd8-4d50-cee7-9b4744737e59",
        "id": "4OKYgGPGnk4l",
        "colab": {
          "base_uri": "https://localhost:8080/",
          "height": 281
        }
      },
      "source": [
        "plt.title('Loss')\n",
        "plt.plot(history.history['loss'], label='train')\n",
        "plt.plot(history.history['val_loss'], label='test')\n",
        "plt.legend()\n",
        "plt.show();"
      ],
      "execution_count": 27,
      "outputs": [
        {
          "output_type": "display_data",
          "data": {
            "image/png": "[encoded data removed]",
            "text/plain": [
              "<Figure size 432x288 with 1 Axes>"
            ]
          },
          "metadata": {
            "tags": [],
            "needs_background": "light"
          }
        }
      ]
    },
    {
      "cell_type": "code",
      "metadata": {
        "colab_type": "code",
        "outputId": "ff370efa-1786-463f-9c9a-9c14a053a579",
        "id": "JjGVaa2xnk4m",
        "colab": {
          "base_uri": "https://localhost:8080/",
          "height": 281
        }
      },
      "source": [
        "plt.title('Accuracy')\n",
        "plt.plot(history.history['accuracy'], label='train')\n",
        "plt.plot(history.history['val_accuracy'], label='test')\n",
        "plt.legend()\n",
        "plt.show();"
      ],
      "execution_count": 28,
      "outputs": [
        {
          "output_type": "display_data",
          "data": {
            "image/png": "[encoded data removed]",
            "text/plain": [
              "<Figure size 432x288 with 1 Axes>"
            ]
          },
          "metadata": {
            "tags": [],
            "needs_background": "light"
          }
        }
      ]
    },
    {
      "cell_type": "code",
      "metadata": {
        "colab_type": "code",
        "id": "dQCTDHhJnk4o",
        "colab": {}
      },
      "source": [
        "def find_d2(text):\n",
        "  input_d = clean_text(text)\n",
        "  seq = tokenizer.texts_to_sequences(input_d)\n",
        "  padded = pad_sequences(seq, maxlen=MAX_SEQUENCE_LENGTH)\n",
        "  pred = model_2.predict(padded)\n",
        "  buf = []\n",
        "  buf_2 = []\n",
        "  for i in range(0,4):\n",
        "    for n in pred:\n",
        "      buf.append(n[i])\n",
        "    buf_1 = np.mean(buf)\n",
        "    buf_2.append(buf_1)\n",
        "  labels = [1,2,3,4]\n",
        "  d2 = labels[np.argmax(buf_2)]\n",
        "  return d2"
      ],
      "execution_count": 0,
      "outputs": []
    },
    {
      "cell_type": "markdown",
      "metadata": {
        "id": "GR3jBgv0QIYL",
        "colab_type": "text"
      },
      "source": [
        "##GSL"
      ]
    },
    {
      "cell_type": "code",
      "metadata": {
        "id": "MA2APl-rMtne",
        "colab_type": "code",
        "colab": {
          "base_uri": "https://localhost:8080/",
          "height": 119
        },
        "outputId": "e96cfc9f-516c-443a-d724-9163b47b4f8c"
      },
      "source": [
        "!pip install pyspellchecker\n",
        "!pip install --upgrade language_tool_python\n",
        "!pip install lexicalrichness\n",
        "from lexicalrichness import LexicalRichness"
      ],
      "execution_count": 30,
      "outputs": [
        {
          "output_type": "stream",
          "text": [
            "Requirement already satisfied: pyspellchecker in /usr/local/lib/python3.6/dist-packages (0.5.4)\n",
            "Requirement already up-to-date: language_tool_python in /usr/local/lib/python3.6/dist-packages (2.2.0)\n",
            "Requirement already satisfied, skipping upgrade: tqdm in /usr/local/lib/python3.6/dist-packages (from language_tool_python) (4.41.1)\n",
            "Requirement already satisfied: lexicalrichness in /usr/local/lib/python3.6/dist-packages (0.1.3)\n",
            "Requirement already satisfied: scipy>=1.0.0 in /usr/local/lib/python3.6/dist-packages (from lexicalrichness) (1.4.1)\n",
            "Requirement already satisfied: numpy>=1.13.3 in /usr/local/lib/python3.6/dist-packages (from scipy>=1.0.0->lexicalrichness) (1.18.4)\n"
          ],
          "name": "stdout"
        }
      ]
    },
    {
      "cell_type": "code",
      "metadata": {
        "id": "LJoUNmEBP2L-",
        "colab_type": "code",
        "colab": {}
      },
      "source": [
        "def cal_GSL(data):\n",
        "  data = data.split()\n",
        "  init_len = len(data)\n",
        "  for j, i in enumerate(data):\n",
        "    #print(i,j)\n",
        "    if '@' in i:\n",
        "      data[j] = ''\n",
        "    else: data[j] = i \n",
        "  data = ' '.join(data)\n",
        "  data_clean = clean_text(data)\n",
        "  #Count number of sentence \n",
        "  sentence_num = data.count('. ')\n",
        "  sentence_num = sentence_num + data.count('? ')\n",
        "  sentence_num = sentence_num + data.count('?')\n",
        "  sentence_num = sentence_num + data.count('?\\' ')\n",
        "  sentence_num = sentence_num + data.count('! ')\n",
        "  sentence_num = sentence_num + data.count('!')\n",
        "  sentence_num = sentence_num + data.count('!\\' ')\n",
        "  sentence_num = sentence_num + data.count('\\' ')\n",
        "  sentence_num = sentence_num + data.count('\\\" ')\n",
        "\n",
        "  #Check Grammar and Spelling \n",
        "  import language_tool_python\n",
        "  tool = language_tool_python.LanguageTool('en-US')\n",
        "  matches = tool.check(data)\n",
        "\n",
        "  #Spelling error count\n",
        "  s_score = 0\n",
        "  for i in range(len(matches)):\n",
        "    keep_buf = list(matches[i])\n",
        "    if keep_buf[1] == 'Possible spelling mistake found.':\n",
        "      s_score = s_score+1\n",
        "\n",
        "  lex = LexicalRichness(data)\n",
        "  L = lex.ttr\n",
        "  G = (sentence_num-(len(matches)-s_score))/sentence_num\n",
        "  S = (init_len-s_score)/init_len\n",
        "  GS = G*S\n",
        "  return GS,L,G,S,matches, sentence_num, init_len, lex"
      ],
      "execution_count": 0,
      "outputs": []
    },
    {
      "cell_type": "code",
      "metadata": {
        "id": "_jInFjssSuq-",
        "colab_type": "code",
        "colab": {}
      },
      "source": [
        "def transformation_table(d1,d2,gs,l):\n",
        "  #Task Achievement : ta\n",
        "  #Coherence and Cohesion : cc \n",
        "  #Lexical Resource : lr\n",
        "  #Grammatical Range and Accuracy : gra\n",
        "  ta = d1\n",
        "  cc = d2\n",
        "  lr = d1*l\n",
        "  gra = d2*gs\n",
        "  total = ta+cc+lr+gra\n",
        "  band = 0\n",
        "  if total <= 4:\n",
        "    band = 1\n",
        "  elif total > 4 and total <= 5:\n",
        "    band = 2\n",
        "  elif total > 5 and total <= 6:\n",
        "    band = 3\n",
        "  elif total > 6 and total <= 8:\n",
        "    band = 4\n",
        "  elif total > 8 and total <= 9:\n",
        "    band = 5\n",
        "  elif total > 9 and total <= 12:\n",
        "    band = 6\n",
        "  elif total > 12 and total <= 14:\n",
        "    band = 7\n",
        "  elif total > 14 and total <= 18:\n",
        "    band = 8\n",
        "  elif total > 18 :\n",
        "    band = 9\n",
        "  return band, total"
      ],
      "execution_count": 0,
      "outputs": []
    },
    {
      "cell_type": "code",
      "metadata": {
        "id": "jdr47g7voMjB",
        "colab_type": "code",
        "colab": {}
      },
      "source": [
        "def run(text):\n",
        "  input_d = clean_text(text)\n",
        "  seq = tokenizer.texts_to_sequences(input_d)\n",
        "  padded = pad_sequences(seq, maxlen=MAX_SEQUENCE_LENGTH)\n",
        "  d1 = find_d1(text)\n",
        "  d2 = find_d2(text)\n",
        "  GSL = cal_GSL(text)\n",
        "  band, final_score = transformation_table(d1,d2,GSL[0],GSL[1])\n",
        "  \n",
        "  mst = list(GSL[4])\n",
        "  print(\"(D1) Writing Application (bad 1-6 good)  :\",d1)\n",
        "  print(\"(D2) Language Convention (bad 1-4 good):\",d2)\n",
        "  print(\"Lexical Richness ratio :\", GSL[1])\n",
        "  print(\"Grammar error ration :\", GSL[2])\n",
        "  print(\"Spelling error ratio :\", GSL[3])\n",
        "  print(\"The closer to 1 it is, the better performance you are!!!\")\n",
        "  print(\"----------------------------------------------------------------\")\n",
        "  print(\"What is your mistaken :\\n\")\n",
        "  for i, j in enumerate(mst):\n",
        "    buf = list(j)\n",
        "    print( \"Comment \"+str(i+1)+\" : \"+buf[1])\n",
        "    print(\"Where : \" + buf[3])\n",
        "  print(\"----------------------------------------------------------------\")\n",
        "\n",
        "  return band, final_score, mst\n"
      ],
      "execution_count": 0,
      "outputs": []
    },
    {
      "cell_type": "code",
      "metadata": {
        "id": "p58O2J6xv17Y",
        "colab_type": "code",
        "colab": {
          "base_uri": "https://localhost:8080/",
          "height": 462
        },
        "outputId": "84992295-4bcb-4729-a765-279f2e929937"
      },
      "source": [
        "text = input(\" Your IELTS Writing Task 2\")\n",
        "band, final_score, mst = run(text)\n",
        "print(\"Your IELTS band is : \",band)\n",
        "print(\"Your total score is : \",final_score)"
      ],
      "execution_count": 55,
      "outputs": [
        {
          "output_type": "stream",
          "text": [
            " Your IELTS Writing Task 2It is certainly said that learning is an ongoing process .Every person learn something new according to their age, experience, knowledge and education. According to my point of view it is always better to have _teacher or guide for study.   One teacher has adequate knowledge to teach their student. He knows all the possible ways to make subject easier for the students, moreover, he teaches them in an effective manner. For example, some students are weak in some subjects but a teacher always guides them according to their mental capacity. He teaches them as fun. Some people can learn better in group by discuss the topics with others. In class people can know the views of others, even they know how we can learn effectively. Where the teacher always gives an easy direction to learn.  In the today’s competitive world, everybody is busy, some people think that rather to waste their time to go for classes they can learn better their subject _. They can attend online classes by using the Internet at home. They can get relevant information from the Internet regarding their topic. There is not specific time or age limit to learn something new. Some new things we can only learn from experience – for example new facts, new habits and so on.  In sum up, I would like to say that it is always better for the people to have a teacher because a teacher has good knowledge, experience and is educated how to teach others. People will learn from a teacher in an easier way rather than on their own.\n",
            "(D1) Writing Application (bad 1-6 good)  : 4\n",
            "(D2) Language Convention (bad 1-4 good): 1\n",
            "Lexical Richness ratio : 0.5057034220532319\n",
            "Grammar error ration : 0.6\n",
            "Spelling error ratio : 1.0\n",
            "The closer to 1 it is, the better performance you are!!!\n",
            "----------------------------------------------------------------\n",
            "What is your mistaken :\n",
            "\n",
            "Comment 1 : Don't put a space before the full stop\n",
            "Where : ...said that learning is an ongoing process .Every person learn something new accordi...\n",
            "Comment 2 : Add a space between sentences\n",
            "Where : ...id that learning is an ongoing process .Every person learn something new according to...\n",
            "Comment 3 : Consider replacing \"in an effective manner\" with the adverb for \"effective\"; e.g., \"in a hasty manner\" with \"hastily\".\n",
            "Where : ...the students, moreover, he teaches them in an effective manner. For example, some students are weak in...\n",
            "Comment 4 : Did you mean \"to\"?\n",
            "Where : ...em as fun. Some people can learn better in group by discuss the topics with others...\n",
            "Comment 5 : “Where” at the beginning of a sentence usually requires a 2nd clause. Maybe a comma, question or exclamation mark is missing, or the sentence is incomplete and should be joined with the following sentence.\n",
            "Where : ...they know how we can learn effectively. Where the teacher always gives an easy direct...\n",
            "Comment 6 : Consider using an m-dash if you do not want to join two words.\n",
            "Where : ...hings we can only learn from experience – for example new facts, new habits and s...\n",
            "----------------------------------------------------------------\n",
            "Your IELTS band is :  4\n",
            "Your total score is :  7.622813688212927\n"
          ],
          "name": "stdout"
        }
      ]
    },
    {
      "cell_type": "code",
      "metadata": {
        "id": "MoUQ0hqAk9sw",
        "colab_type": "code",
        "colab": {}
      },
      "source": [
        ""
      ],
      "execution_count": 0,
      "outputs": []
    }
  ]
}